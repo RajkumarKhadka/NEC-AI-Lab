{
  "nbformat": 4,
  "nbformat_minor": 0,
  "metadata": {
    "colab": {
      "provenance": [],
      "include_colab_link": true
    },
    "kernelspec": {
      "name": "python3",
      "display_name": "Python 3"
    },
    "language_info": {
      "name": "python"
    }
  },
  "cells": [
    {
      "cell_type": "markdown",
      "metadata": {
        "id": "view-in-github",
        "colab_type": "text"
      },
      "source": [
        "<a href=\"https://colab.research.google.com/github/RajkumarKhadka/Nec-AI-Lab/blob/main/4)_(020-348)_NQueen_problem.ipynb\" target=\"_parent\"><img src=\"https://colab.research.google.com/assets/colab-badge.svg\" alt=\"Open In Colab\"/></a>"
      ]
    },
    {
      "cell_type": "code",
      "execution_count": null,
      "metadata": {
        "colab": {
          "base_uri": "https://localhost:8080/"
        },
        "id": "mCANpyW_J_5r",
        "outputId": "51d2abe9-09b7-48c6-973d-15f7fdbad7f4"
      },
      "outputs": [
        {
          "output_type": "stream",
          "name": "stdout",
          "text": [
            "Enter the value of N for the N-Queens problem: 8\n",
            "Q . . . . . . .\n",
            ". . . . Q . . .\n",
            ". . . . . . . Q\n",
            ". . . . . Q . .\n",
            ". . Q . . . . .\n",
            ". . . . . . Q .\n",
            ". Q . . . . . .\n",
            ". . . Q . . . .\n"
          ]
        }
      ],
      "source": [
        "class NQueen:\n",
        "    def __init__(self, n):\n",
        "        self.n = n  # Number of queens and size of the chessboard\n",
        "        self.board = [[0] * n for _ in range(n)]  # Initialize the chessboard\n",
        "\n",
        "    def is_safe(self, row, col):\n",
        "        # Check the current column for any queen\n",
        "        for i in range(row):\n",
        "            if self.board[i][col] == 1:\n",
        "                return False\n",
        "\n",
        "        # Check upper-left diagonal\n",
        "        for i, j in zip(range(row, -1, -1), range(col, -1, -1)):\n",
        "            if self.board[i][j] == 1:\n",
        "                return False\n",
        "\n",
        "        # Check upper-right diagonal\n",
        "        for i, j in zip(range(row, -1, -1), range(col, self.n)):\n",
        "            if self.board[i][j] == 1:\n",
        "                return False\n",
        "\n",
        "        return True\n",
        "\n",
        "    def solve_n_queens_util(self, row):\n",
        "        # Base case: If all queens are placed\n",
        "        if row >= self.n:\n",
        "            return True\n",
        "\n",
        "        # Place queen in all columns one by one\n",
        "        for col in range(self.n):\n",
        "            if self.is_safe(row, col):\n",
        "                self.board[row][col] = 1  # Place the queen\n",
        "\n",
        "                # Recursively place the rest of the queens\n",
        "                if self.solve_n_queens_util(row + 1):\n",
        "                    return True\n",
        "\n",
        "                # Backtrack\n",
        "                self.board[row][col] = 0\n",
        "\n",
        "        return False\n",
        "\n",
        "    def solve(self):\n",
        "        if not self.solve_n_queens_util(0):\n",
        "            print(\"No solution exists\")\n",
        "        else:\n",
        "            self.print_solution()\n",
        "\n",
        "    def print_solution(self):\n",
        "        for row in self.board:\n",
        "            print(\" \".join(\"Q\" if cell == 1 else \".\" for cell in row))\n",
        "\n",
        "# Example usage\n",
        "n = int(input(\"Enter the value of N for the N-Queens problem: \"))\n",
        "nq = NQueen(n)\n",
        "nq.solve()\n"
      ]
    }
  ]
}
